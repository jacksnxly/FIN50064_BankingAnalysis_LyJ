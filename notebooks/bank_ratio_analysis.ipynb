{
 "cells": [
  {
   "cell_type": "code",
   "execution_count": 1,
   "metadata": {},
   "outputs": [
    {
     "name": "stdout",
     "output_type": "stream",
     "text": [
      "\n",
      "Bank Balance Sheet Ratio Summary Statistics:\n",
      "===========================================\n",
      "                 deposit_to_asset  loan_to_deposit  liquid_asset_ratio  \\\n",
      "Mean                       0.4633              inf              0.1685   \n",
      "Median                     0.4716           1.2182              0.1484   \n",
      "10th percentile            0.2185           0.7228              0.0664   \n",
      "90th percentile            0.6932           2.3912              0.2974   \n",
      "\n",
      "                 equity_to_asset  nominal_asset_growth  \n",
      "Mean                      0.3530                0.0621  \n",
      "Median                    0.3502                0.0338  \n",
      "10th percentile           0.1979               -0.1060  \n",
      "90th percentile           0.5075                0.2364  \n"
     ]
    },
    {
     "name": "stderr",
     "output_type": "stream",
     "text": [
      "/Users/jacksonly/Library/CloudStorage/GoogleDrive-thejax.ly@gmail.com/My Drive/Universität/Module/Money & Banking/FIN50064_BankingAnalysis_LyJ/notebooks/../src/analysis.py:16: DtypeWarning: Columns (10,12,72,73,75,77,78,79) have mixed types. Specify dtype option on import or set low_memory=False.\n",
      "  self.df = pd.read_csv(data_path)\n",
      "/Users/jacksonly/Library/CloudStorage/GoogleDrive-thejax.ly@gmail.com/My Drive/Universität/Module/Money & Banking/FIN50064_BankingAnalysis_LyJ/notebooks/../src/analysis.py:76: FutureWarning: The default fill_method='ffill' in SeriesGroupBy.pct_change is deprecated and will be removed in a future version. Either fill in any non-leading NA values prior to calling pct_change or specify 'fill_method=None' to not fill NA values.\n",
      "  .pct_change()\n",
      "/Users/jacksonly/Library/CloudStorage/GoogleDrive-thejax.ly@gmail.com/My Drive/Universität/Module/Money & Banking/FIN50064_BankingAnalysis_LyJ/.venv/lib/python3.13/site-packages/pandas/core/nanops.py:1016: RuntimeWarning: invalid value encountered in subtract\n",
      "  sqr = _ensure_numeric((avg - values) ** 2)\n"
     ]
    }
   ],
   "source": [
    "# notebooks/bank_ratio_analysis.ipynb\n",
    "\n",
    "import sys\n",
    "from pathlib import Path\n",
    "sys.path.append('..')\n",
    "\n",
    "from src.analysis import BankRatioAnalysis\n",
    "\n",
    "# Initialize analysis\n",
    "data_path = Path('../data/raw/occ-balance-sheets_fall2024.csv')\n",
    "analysis = BankRatioAnalysis(data_path)\n",
    "\n",
    "# Generate summary statistics\n",
    "summary_stats = analysis.generate_summary_statistics()\n",
    "\n",
    "# Display results\n",
    "print(\"\\nBank Balance Sheet Ratio Summary Statistics:\")\n",
    "print(\"===========================================\")\n",
    "print(summary_stats)\n",
    "\n",
    "# Save results\n",
    "output_path = Path('../output/summary_statistics.csv')\n",
    "summary_stats.to_csv(output_path)"
   ]
  }
 ],
 "metadata": {
  "kernelspec": {
   "display_name": ".venv",
   "language": "python",
   "name": "python3"
  },
  "language_info": {
   "codemirror_mode": {
    "name": "ipython",
    "version": 3
   },
   "file_extension": ".py",
   "mimetype": "text/x-python",
   "name": "python",
   "nbconvert_exporter": "python",
   "pygments_lexer": "ipython3",
   "version": "3.13.0"
  }
 },
 "nbformat": 4,
 "nbformat_minor": 2
}
